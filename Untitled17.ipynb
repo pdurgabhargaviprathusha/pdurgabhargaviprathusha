{
  "nbformat": 4,
  "nbformat_minor": 0,
  "metadata": {
    "colab": {
      "provenance": [],
      "authorship_tag": "ABX9TyNmk3lCEFVMkQjeJV9LU4/s",
      "include_colab_link": true
    },
    "kernelspec": {
      "name": "python3",
      "display_name": "Python 3"
    },
    "language_info": {
      "name": "python"
    }
  },
  "cells": [
    {
      "cell_type": "markdown",
      "metadata": {
        "id": "view-in-github",
        "colab_type": "text"
      },
      "source": [
        "<a href=\"https://colab.research.google.com/github/pdurgabhargaviprathusha/pdurgabhargaviprathusha/blob/main/Untitled17.ipynb\" target=\"_parent\"><img src=\"https://colab.research.google.com/assets/colab-badge.svg\" alt=\"Open In Colab\"/></a>"
      ]
    },
    {
      "cell_type": "code",
      "execution_count": 1,
      "metadata": {
        "colab": {
          "base_uri": "https://localhost:8080/"
        },
        "id": "HLlehtL47K8Y",
        "outputId": "abbbaf56-8f12-472a-874b-5159558f6f83"
      },
      "outputs": [
        {
          "output_type": "stream",
          "name": "stdout",
          "text": [
            "[1, 2, 420]\n",
            "[  1   2 420]\n",
            "int64\n",
            "(3,)\n",
            "[[1 2 3]\n",
            " [4 5 6]]\n",
            "(2, 3)\n",
            "int64\n",
            "2\n",
            "[4 5 6]\n",
            "[[1 2]\n",
            " [4 5]]\n",
            "[778 837 820 986 605 619 578 730 864 774]\n",
            "578\n",
            "986\n",
            "6\n",
            "3\n",
            "[605 619 578]\n",
            "[0. 0. 0. 0. 0. 0. 0. 0. 0. 0.]\n",
            "[1. 1. 1. 1. 1. 1. 1. 1. 1. 1. 1. 1. 1. 1. 1. 1. 1. 1. 1. 1.]\n",
            "[420 420 420 420 420 420 420 420 420 420]\n",
            "[[1. 0. 0. 0. 0.]\n",
            " [0. 1. 0. 0. 0.]\n",
            " [0. 0. 1. 0. 0.]\n",
            " [0. 0. 0. 1. 0.]\n",
            " [0. 0. 0. 0. 1.]]\n",
            "[2, 420, 2, 1]\n",
            "[  1   2 420]\n",
            "[  1   2   2 420]\n",
            "[  1   2 420]\n",
            "2\n",
            "[[1, 2, 3], [4, 5, 6], [7, 8, 9], [12, 11, 13]]\n",
            "[[ 1  4  7 12]\n",
            " [ 2  5  8 11]\n",
            " [ 3  6  9 13]]\n",
            "[[ 1  2]\n",
            " [ 3  4]\n",
            " [ 5  6]\n",
            " [ 7  8]\n",
            " [ 9 12]\n",
            " [11 13]]\n",
            "15.857142857142858\n",
            "15.0\n",
            "10.828910661855558\n",
            "117.26530612244896\n",
            "[1 2 3 4 5 6 7 8 9]\n"
          ]
        }
      ],
      "source": [
        "import numpy\n",
        "# collection LIST\n",
        "a=[1,2,420]\n",
        "print(a)\n",
        "b=numpy.array(a) #function\n",
        "print(b)\n",
        "# objects\n",
        "print(b.dtype)\n",
        "print(b.shape)\n",
        "# matrix\n",
        "c=numpy.array([[1,2,3],[4,5,6]])\n",
        "print(c)\n",
        "print(c.shape)\n",
        "print(c.dtype)  # int64\n",
        "print(c.ndim)   # 2d\n",
        "print(c[1])\n",
        "print(c[:,0:2])\n",
        "\n",
        "# randint()\n",
        "d=numpy.random.randint(420,1000,10)\n",
        "print(d)\n",
        "print(d.min())\n",
        "print(d.max())\n",
        "print(d.argmin()) # index\n",
        "print(d.argmax()) # index\n",
        "print(d[d<700])\n",
        "\n",
        "print(numpy.zeros(10)) #function\n",
        "print(numpy.ones(20))  #\n",
        "print(numpy.full(10,420))\n",
        "# identity\n",
        "print(numpy.eye(5))\n",
        "\n",
        "\n",
        "# FINDING KTH MAXIMUM / MINIMUM ELEMENT\n",
        "f=[2,420,2,1]\n",
        "print(f)\n",
        "g=numpy.array(a) #function\n",
        "print(g)\n",
        "i=numpy.sort(f)\n",
        "print(i)\n",
        "h=numpy.unique(i)\n",
        "print(h)\n",
        "print(h[1])\n",
        "\n",
        "# FINDING TRANSPOSE\n",
        "j=[[1,2,3],[4,5,6],[7,8,9],[12,11,13]]\n",
        "print(j)\n",
        "print(numpy.transpose(j))\n",
        "\n",
        "#reshape\n",
        "print(numpy.reshape(j,(6,2)))\n",
        "f=[3,15,2,34,11,25,21]\n",
        "#statistics function\n",
        "print(numpy.mean(f))\n",
        "print(numpy.median(f))\n",
        "print(numpy.std(f))\n",
        "print(numpy.var(f))\n",
        "\n",
        "#arange function\n",
        "arange=numpy.arange(1,10)\n",
        "print(arange)\n"
      ]
    }
  ]
}