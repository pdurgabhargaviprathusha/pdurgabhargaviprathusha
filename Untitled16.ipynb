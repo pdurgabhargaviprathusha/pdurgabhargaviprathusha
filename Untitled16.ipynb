{
  "nbformat": 4,
  "nbformat_minor": 0,
  "metadata": {
    "colab": {
      "provenance": [],
      "authorship_tag": "ABX9TyPI4gfSzQ2zXgzHe84Pfj6Y",
      "include_colab_link": true
    },
    "kernelspec": {
      "name": "python3",
      "display_name": "Python 3"
    },
    "language_info": {
      "name": "python"
    }
  },
  "cells": [
    {
      "cell_type": "markdown",
      "metadata": {
        "id": "view-in-github",
        "colab_type": "text"
      },
      "source": [
        "<a href=\"https://colab.research.google.com/github/pdurgabhargaviprathusha/pdurgabhargaviprathusha/blob/main/Untitled16.ipynb\" target=\"_parent\"><img src=\"https://colab.research.google.com/assets/colab-badge.svg\" alt=\"Open In Colab\"/></a>"
      ]
    },
    {
      "cell_type": "code",
      "execution_count": null,
      "metadata": {
        "id": "lZ2n82FY0o92",
        "outputId": "fbd8d017-9f3d-4394-9e21-59996af3f897",
        "colab": {
          "base_uri": "https://localhost:8080/"
        }
      },
      "outputs": [
        {
          "output_type": "stream",
          "name": "stdout",
          "text": [
            "DataFrame:\n",
            "    Name  Age      City\n",
            "0   John   28  New York\n",
            "1   Anna   24     Paris\n",
            "2  Peter   35    Berlin\n",
            "3  Linda   32    London\n",
            "\n",
            "Updated DataFrame with Salary:\n",
            "    Name  Age      City  Salary\n",
            "0   John   28  New York   50000\n",
            "1   Anna   24     Paris   60000\n",
            "2  Peter   35    Berlin   55000\n",
            "3  Linda   32    London   65000\n",
            "\n",
            "Filtered DataFrame (Age > 30):\n",
            "    Name  Age    City  Salary\n",
            "2  Peter   35  Berlin   55000\n",
            "3  Linda   32  London   65000\n"
          ]
        }
      ],
      "source": [
        "import pandas as pd\n",
        "# Create a DataFrame\n",
        "data = {'Name': ['John', 'Anna', 'Peter', 'Linda'],\n",
        "        'Age': [28, 24, 35, 32],\n",
        "        'City': ['New York', 'Paris', 'Berlin', 'London']}\n",
        "\n",
        "df = pd.DataFrame(data)\n",
        "\n",
        "# Display the DataFrame\n",
        "print(\"DataFrame:\")\n",
        "print(df)\n",
        "\n",
        "# Add a new column\n",
        "df['Salary'] = [50000, 60000, 55000, 65000]\n",
        "\n",
        "# Display updated DataFrame\n",
        "print(\"\\nUpdated DataFrame with Salary:\")\n",
        "print(df)\n",
        "\n",
        "# Filter rows where Age is greater than 30\n",
        "filtered_df = df[df['Age'] > 30]\n",
        "\n",
        "# Display filtered DataFrame\n",
        "print(\"\\nFiltered DataFrame (Age > 30):\")\n",
        "print(filtered_df)\n"
      ]
    }
  ]
}